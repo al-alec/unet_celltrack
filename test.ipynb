{
 "cells": [
  {
   "cell_type": "code",
   "id": "initial_id",
   "metadata": {
    "collapsed": true,
    "ExecuteTime": {
     "end_time": "2025-10-27T13:21:14.963981Z",
     "start_time": "2025-10-27T13:21:14.083251Z"
    }
   },
   "source": [
    "from pathlib import Path\n",
    "import numpy as np\n",
    "from PIL import Image\n",
    "import torchvision\n",
    "import torch"
   ],
   "outputs": [],
   "execution_count": 5
  },
  {
   "metadata": {
    "ExecuteTime": {
     "end_time": "2025-10-27T13:21:15.489518Z",
     "start_time": "2025-10-27T13:21:15.478383Z"
    }
   },
   "cell_type": "code",
   "source": [
    "#img = \"test_dataset/predictions/01_t003_binary.png\"\n",
    "\n",
    "temp = Image.open(img)\n",
    "\n",
    "tensor = torchvision.transforms.functional.pil_to_tensor(temp)"
   ],
   "id": "72aff0a550866e8b",
   "outputs": [
    {
     "data": {
      "text/plain": [
       "tensor([[[0, 0, 0,  ..., 0, 0, 0],\n",
       "         [0, 0, 0,  ..., 0, 0, 0],\n",
       "         [0, 0, 0,  ..., 0, 0, 0],\n",
       "         ...,\n",
       "         [0, 0, 0,  ..., 0, 0, 0],\n",
       "         [0, 0, 0,  ..., 0, 0, 0],\n",
       "         [0, 0, 0,  ..., 0, 0, 0]]], dtype=torch.uint8)"
      ]
     },
     "execution_count": 6,
     "metadata": {},
     "output_type": "execute_result"
    }
   ],
   "execution_count": 6
  },
  {
   "metadata": {
    "ExecuteTime": {
     "end_time": "2025-10-27T13:22:39.903131Z",
     "start_time": "2025-10-27T13:22:39.887233Z"
    }
   },
   "cell_type": "code",
   "source": "tensor.unique()",
   "id": "d026972461a0a668",
   "outputs": [
    {
     "data": {
      "text/plain": [
       "tensor([  0, 255], dtype=torch.uint8)"
      ]
     },
     "execution_count": 10,
     "metadata": {},
     "output_type": "execute_result"
    }
   ],
   "execution_count": 10
  },
  {
   "metadata": {
    "ExecuteTime": {
     "end_time": "2025-10-27T15:34:05.262207Z",
     "start_time": "2025-10-27T15:34:05.257615Z"
    }
   },
   "cell_type": "code",
   "source": [
    "import glob\n",
    "\n",
    "predictions_masks_path = \"test_dataset/predictions\"\n",
    "predictions_masks = sorted(glob.glob(predictions_masks_path + \"/*.png\"))\n",
    "predictions_masks"
   ],
   "id": "b0d49bbac84fc851",
   "outputs": [
    {
     "data": {
      "text/plain": [
       "['test_dataset/predictions/01_t003.png',\n",
       " 'test_dataset/predictions/01_t020.png',\n",
       " 'test_dataset/predictions/01_t052.png',\n",
       " 'test_dataset/predictions/01_t075.png',\n",
       " 'test_dataset/predictions/01_t081.png',\n",
       " 'test_dataset/predictions/01_t085.png',\n",
       " 'test_dataset/predictions/01_t091.png',\n",
       " 'test_dataset/predictions/02_t008.png',\n",
       " 'test_dataset/predictions/02_t014.png',\n",
       " 'test_dataset/predictions/02_t016.png',\n",
       " 'test_dataset/predictions/02_t017.png',\n",
       " 'test_dataset/predictions/02_t036.png',\n",
       " 'test_dataset/predictions/02_t039.png',\n",
       " 'test_dataset/predictions/02_t047.png',\n",
       " 'test_dataset/predictions/02_t051.png',\n",
       " 'test_dataset/predictions/02_t052.png',\n",
       " 'test_dataset/predictions/02_t055.png',\n",
       " 'test_dataset/predictions/02_t070.png',\n",
       " 'test_dataset/predictions/02_t083.png']"
      ]
     },
     "execution_count": 12,
     "metadata": {},
     "output_type": "execute_result"
    }
   ],
   "execution_count": 12
  }
 ],
 "metadata": {
  "kernelspec": {
   "display_name": "Python 3",
   "language": "python",
   "name": "python3"
  },
  "language_info": {
   "codemirror_mode": {
    "name": "ipython",
    "version": 2
   },
   "file_extension": ".py",
   "mimetype": "text/x-python",
   "name": "python",
   "nbconvert_exporter": "python",
   "pygments_lexer": "ipython2",
   "version": "2.7.6"
  }
 },
 "nbformat": 4,
 "nbformat_minor": 5
}
