{
 "cells": [
  {
   "metadata": {
    "ExecuteTime": {
     "end_time": "2025-10-29T11:44:54.796442Z",
     "start_time": "2025-10-29T11:44:54.700626Z"
    }
   },
   "cell_type": "code",
   "source": [
    "import os\n",
    "import glob\n",
    "import cv2\n",
    "from pathlib import Path\n",
    "import numpy as np\n",
    "from torch.nn.functional import threshold\n"
   ],
   "id": "d652fb6aa94dc0b5",
   "outputs": [],
   "execution_count": 1
  },
  {
   "metadata": {},
   "cell_type": "code",
   "source": [
    "def imshow_components(labels):\n",
    "    # Map component labels to hue val\n",
    "    label_hue = np.uint8(179 * labels / np.max(labels))\n",
    "    blank_ch = 255 * np.ones_like(label_hue)\n",
    "    labeled_img = cv2.merge([label_hue, blank_ch, blank_ch])\n",
    "\n",
    "    # cvt to BGR for display\n",
    "    labeled_img = cv2.cvtColor(labeled_img, cv2.COLOR_HSV2BGR)\n",
    "\n",
    "    # set bg label to black\n",
    "    labeled_img[label_hue == 0] = 0\n",
    "\n",
    "    return labeled_img"
   ],
   "id": "65ff172ea527d06d",
   "outputs": [],
   "execution_count": null
  },
  {
   "cell_type": "code",
   "id": "initial_id",
   "metadata": {
    "collapsed": true
   },
   "source": [
    "for img in predictions_masks_img:\n",
    "    filename = Path(img).stem\n",
    "    img = cv2.imread(img, 0)\n",
    "    img = cv2.threshold(img, 127, 255, cv2.THRESH_BINARY)[1]  # ensure binary\n",
    "    num_labels, labels_im = cv2.connectedComponents(img)\n",
    "\n",
    "    print(num_labels)\n",
    "\n",
    "    #labeled_img = imshow_components(labels_im)"
   ],
   "outputs": [],
   "execution_count": null
  },
  {
   "metadata": {},
   "cell_type": "code",
   "source": [
    "predictions_masks_path = \"test_dataset/predictions/sor\"\n",
    "os.makedirs(\"test_dataset/labeled_masks\", exist_ok=True)\n",
    "\n",
    "predictions_masks_img = sorted(glob.glob(predictions_masks_path + \"/*.png\"))"
   ],
   "id": "70070ac832957ea3",
   "outputs": [],
   "execution_count": null
  },
  {
   "metadata": {},
   "cell_type": "code",
   "source": "from PIL import Image",
   "id": "c3114e7809c0a101",
   "outputs": [],
   "execution_count": null
  },
  {
   "metadata": {},
   "cell_type": "code",
   "source": [
    "import numpy as np\n",
    "#for img in predictions_masks_img:\n",
    "img = predictions_masks_img[0]\n",
    "filename = Path(img).stem\n",
    "img = cv2.imread(img, 0)\n",
    "img = cv2.threshold(img, 127, 255, cv2.THRESH_BINARY)[1]  # ensure binary\n",
    "cv2.imshow(img)\n",
    "num_labels, labels_im = cv2.connectedComponents(img)img = cv2.threshold(img, 127, 255, cv2.THRESH_BINARY)[1]  # ensure binary\n",
    "cv2.imshow(img)\n",
    "num_labels, labels_im = cv2.connectedComponents(img)\n",
    "print(np.unique(labels_im))\n",
    "print(num_labels)\n",
    "labeled_img = Image.fromarray(labels_im)\n"
   ],
   "id": "dfd5e365c6249557",
   "outputs": [],
   "execution_count": null
  },
  {
   "metadata": {
    "ExecuteTime": {
     "end_time": "2025-10-29T11:45:00.409064Z",
     "start_time": "2025-10-29T11:45:00.406338Z"
    }
   },
   "cell_type": "code",
   "source": "import cv2",
   "id": "2c1317b0bcaeed46",
   "outputs": [],
   "execution_count": 2
  },
  {
   "metadata": {
    "ExecuteTime": {
     "end_time": "2025-10-29T16:31:17.055850Z",
     "start_time": "2025-10-29T16:31:15.886843Z"
    }
   },
   "cell_type": "code",
   "source": [
    "predictions_masks_path = \"test_dataset/predictions/sor\"\n",
    "masks_path = \"test_dataset/masks\"\n",
    "\n",
    "predictions_masks_img = sorted(glob.glob(predictions_masks_path + \"/*.png\"))\n",
    "masks_img = sorted(glob.glob(masks_path + \"/*.tif\"))\n",
    "\n",
    "\n",
    "imkey = 0\n",
    "\n",
    "predicted = cv2.imread(predictions_masks_img[imkey], 0)\n",
    "mask= cv2.imread(masks_img[imkey], 0)\n",
    "\n",
    "\n",
    "predicted = cv2.threshold(predicted, 127, 255, cv2.THRESH_BINARY)[1]  # ensure binary\n",
    "mask = cv2.threshold(mask, 127, 255, cv2.THRESH_BINARY)[1]  # ensure binary\n",
    "\n",
    "num_labels_predicted, labels_im_predicted = cv2.connectedComponents(predicted)\n",
    "num_labels_mask, labels_im_mask = cv2.connectedComponents(mask)\n",
    "\n",
    "iou_matrix = np.zeros((num_labels_predicted, num_labels_mask))\n",
    "\n",
    "fp = 0\n",
    "threshold = 0\n",
    "for i in range(1, num_labels_predicted):\n",
    "    for j in range(1, num_labels_mask):\n",
    "        intersection = np.logical_and(labels_im_predicted == i, labels_im_mask == j).sum()\n",
    "        union = np.logical_or(labels_im_predicted == i, labels_im_mask == j).sum()\n",
    "        iou_matrix[i, j] = intersection / union\n",
    "\n",
    "        if i == j and iou_matrix[i, j] <= threshold:\n",
    "            fp+=fp\n",
    "\n",
    "        if i > j and j > num_labels_predicted < num_labels_mask and i > num_labels_mask-1 and iou_matrix[i, j] <= threshold:\n",
    "            fp+=fp\n",
    "\n",
    "        if i < j and j > num_labels_predicted > num_labels_mask and j > num_labels_predicted-1 and iou_matrix[i, j] <= threshold:\n",
    "            fp+=fp\n",
    "\n",
    "#lignes\n",
    "tp_array = (iou_matrix > threshold).sum(axis=1)\n",
    "\n",
    "#colonnes\n",
    "fn_array = (iou_matrix > threshold).sum(axis=0)\n",
    "\n",
    "#diagonale\n",
    "#fp = np.sum(np.diag(iou_matrix) <= threshold)\n",
    "\n",
    "tp = (tp_array == 0).sum()\n",
    "fn = (fn_array == 0).sum()\n",
    "\n",
    "\n",
    "f1score = (2*tp)/(2*tp+fp+fn)\n",
    "\n",
    "f1score"
   ],
   "id": "88dd8b892994da2b",
   "outputs": [
    {
     "data": {
      "text/plain": [
       "np.float64(0.25)"
      ]
     },
     "execution_count": 51,
     "metadata": {},
     "output_type": "execute_result"
    }
   ],
   "execution_count": 51
  },
  {
   "metadata": {
    "ExecuteTime": {
     "end_time": "2025-10-29T16:31:22.989363Z",
     "start_time": "2025-10-29T16:31:22.985748Z"
    }
   },
   "cell_type": "code",
   "source": "tp, fp, fn\n",
   "id": "94d6d40b702cbfcb",
   "outputs": [
    {
     "data": {
      "text/plain": [
       "(np.int64(1), 0, np.int64(6))"
      ]
     },
     "execution_count": 52,
     "metadata": {},
     "output_type": "execute_result"
    }
   ],
   "execution_count": 52
  }
 ],
 "metadata": {
  "kernelspec": {
   "display_name": "Python 3",
   "language": "python",
   "name": "python3"
  },
  "language_info": {
   "codemirror_mode": {
    "name": "ipython",
    "version": 2
   },
   "file_extension": ".py",
   "mimetype": "text/x-python",
   "name": "python",
   "nbconvert_exporter": "python",
   "pygments_lexer": "ipython2",
   "version": "2.7.6"
  }
 },
 "nbformat": 4,
 "nbformat_minor": 5
}
